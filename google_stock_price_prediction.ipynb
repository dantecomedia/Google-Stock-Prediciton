{
  "nbformat": 4,
  "nbformat_minor": 0,
  "metadata": {
    "colab": {
      "name": "google_stock_price_prediction.ipynb",
      "version": "0.3.2",
      "provenance": [],
      "collapsed_sections": [],
      "include_colab_link": true
    },
    "kernelspec": {
      "name": "python3",
      "display_name": "Python 3"
    },
    "accelerator": "GPU"
  },
  "cells": [
    {
      "cell_type": "markdown",
      "metadata": {
        "id": "view-in-github",
        "colab_type": "text"
      },
      "source": [
        "<a href=\"https://colab.research.google.com/github/dantecomedia/Google-Stock-Prediciton/blob/master/google_stock_price_prediction.ipynb\" target=\"_parent\"><img src=\"https://colab.research.google.com/assets/colab-badge.svg\" alt=\"Open In Colab\"/></a>"
      ]
    },
    {
      "metadata": {
        "id": "mc7GP6GvyBuM",
        "colab_type": "code",
        "outputId": "04dc71db-d495-4855-a0e3-11d110c361df",
        "colab": {
          "base_uri": "https://localhost:8080/",
          "height": 122
        }
      },
      "cell_type": "code",
      "source": [
        "from google.colab import drive\n",
        "drive.mount(\"/content/drive\")\n"
      ],
      "execution_count": 6,
      "outputs": [
        {
          "output_type": "stream",
          "text": [
            "Go to this URL in a browser: https://accounts.google.com/o/oauth2/auth?client_id=947318989803-6bn6qk8qdgf4n4g3pfee6491hc0brc4i.apps.googleusercontent.com&redirect_uri=urn%3Aietf%3Awg%3Aoauth%3A2.0%3Aoob&scope=email%20https%3A%2F%2Fwww.googleapis.com%2Fauth%2Fdocs.test%20https%3A%2F%2Fwww.googleapis.com%2Fauth%2Fdrive%20https%3A%2F%2Fwww.googleapis.com%2Fauth%2Fdrive.photos.readonly%20https%3A%2F%2Fwww.googleapis.com%2Fauth%2Fpeopleapi.readonly&response_type=code\n",
            "\n",
            "Enter your authorization code:\n",
            "··········\n",
            "Mounted at /content/drive\n"
          ],
          "name": "stdout"
        }
      ]
    },
    {
      "metadata": {
        "id": "DP7qCVM70Bs2",
        "colab_type": "code",
        "colab": {
          "base_uri": "https://localhost:8080/",
          "height": 34
        },
        "outputId": "20c79aad-4d29-4319-9a5b-7caeddff86f9"
      },
      "cell_type": "code",
      "source": [
        "ls\n"
      ],
      "execution_count": 7,
      "outputs": [
        {
          "output_type": "stream",
          "text": [
            "\u001b[0m\u001b[01;34mdrive\u001b[0m/  \u001b[01;34msample_data\u001b[0m/\n"
          ],
          "name": "stdout"
        }
      ]
    },
    {
      "metadata": {
        "id": "Ja7oTYjGxzip",
        "colab_type": "code",
        "colab": {
          "base_uri": "https://localhost:8080/",
          "height": 3434
        },
        "outputId": "ea0f8451-02f2-46bc-90a0-f41098ccaf6b"
      },
      "cell_type": "code",
      "source": [
        "#importing the libraries\n",
        "import numpy as np\n",
        "import pandas as pd\n",
        "import matplotlib.pyplot as plt\n",
        "\n",
        "#importing the training set\n",
        "dataset_train=pd.read_csv(\"/content/drive/My Drive/Recurrent_Neural_Networks/Google_Stock_Price_Train.csv\")\n",
        "training_set=dataset_train.iloc[:,1:2]\n",
        "\n",
        "#feature scaling\n",
        "from sklearn.preprocessing import MinMaxScaler\n",
        "sc=MinMaxScaler(feature_range=(0,1))\n",
        "training_set_scaled=sc.fit_transform(training_set)\n",
        "\n",
        "#create a datastructure with 60 timesteps and 1 output\n",
        "X_train=[]\n",
        "y_train=[]\n",
        "for i in range(60,1258):\n",
        "    X_train.append(training_set_scaled[i-60:i,0])\n",
        "    y_train.append(training_set_scaled[i,0])\n",
        "X_train,y_train=np.array(X_train),np.array(y_train)\n",
        "    \n",
        "#Reshaping\n",
        "X_train=np.reshape(X_train, (X_train.shape[0],X_train.shape[1],1))\n",
        "\n",
        "#Building the RNN\n",
        "from keras.models import Sequential\n",
        "from keras.layers import Dense\n",
        "from keras.layers import LSTM\n",
        "from keras.layers import Dropout\n",
        " \n",
        "#Intialzing the RNN\n",
        "regressor=Sequential()\n",
        "\n",
        "regressor.add(LSTM(units=50, return_sequences=True, input_shape=(X_train.shape[1],1)))\n",
        "regressor.add(Dropout(0.2))\n",
        "\n",
        "\n",
        "regressor.add(LSTM(units=50, return_sequences=True))\n",
        "regressor.add(Dropout(0.2))\n",
        "\n",
        "regressor.add(LSTM(units=50, return_sequences=True))\n",
        "regressor.add(Dropout(0.2))\n",
        "\n",
        "regressor.add(LSTM(units=50))\n",
        "regressor.add(Dropout(0.2))\n",
        "\n",
        "regressor.add(Dense(units=1))\n",
        "\n",
        "regressor.compile(optimizer=\"adam\",loss=\"mean_squared_error\")\n",
        "regressor.fit(X_train,y_train, epochs=100,batch_size=32)\n",
        "\n",
        "dataset_test=pd.read_csv(\"/content/drive/My Drive/Recurrent_Neural_Networks/Google_Stock_Price_Test.csv\")\n",
        "real_stock_price=dataset_test.iloc[:,1:2].values\n",
        "\n",
        "dataset_total=pd.concat((dataset_train['Open'],dataset_test['Open']),axis=0)\n",
        "inputs=dataset_total[len(dataset_total)-len(dataset_test)-60:].values\n",
        "inputs=inputs.reshape(-1,1)\n",
        "inputs=sc.transform(inputs) \n",
        "X_test=[]\n",
        "for i in range(60,80):\n",
        "    X_test.append(inputs[i-60:i,0])\n",
        "X_test=np.array(X_test)\n",
        "X_test=np.reshape(X_test,(X_test.shape[0], X_test.shape[1],1))\n",
        "predicted_stock_price=regressor.predict(X_test)\n",
        "predicted_stock_price=sc.inverse_transform(predicted_stock_price)\n",
        "\n"
      ],
      "execution_count": 14,
      "outputs": [
        {
          "output_type": "stream",
          "text": [
            "Using TensorFlow backend.\n"
          ],
          "name": "stderr"
        },
        {
          "output_type": "stream",
          "text": [
            "Epoch 1/100\n",
            "1198/1198 [==============================] - 22s 19ms/step - loss: 0.0636\n",
            "Epoch 2/100\n",
            "1198/1198 [==============================] - 18s 15ms/step - loss: 0.0071\n",
            "Epoch 3/100\n",
            "1198/1198 [==============================] - 18s 15ms/step - loss: 0.0056\n",
            "Epoch 4/100\n",
            "1198/1198 [==============================] - 18s 15ms/step - loss: 0.0052\n",
            "Epoch 5/100\n",
            "1198/1198 [==============================] - 18s 15ms/step - loss: 0.0053\n",
            "Epoch 6/100\n",
            "1198/1198 [==============================] - 18s 15ms/step - loss: 0.0046\n",
            "Epoch 7/100\n",
            "1198/1198 [==============================] - 18s 15ms/step - loss: 0.0048\n",
            "Epoch 8/100\n",
            "1198/1198 [==============================] - 18s 15ms/step - loss: 0.0042\n",
            "Epoch 9/100\n",
            "1198/1198 [==============================] - 18s 15ms/step - loss: 0.0041\n",
            "Epoch 10/100\n",
            "1198/1198 [==============================] - 18s 15ms/step - loss: 0.0040\n",
            "Epoch 11/100\n",
            "1198/1198 [==============================] - 18s 15ms/step - loss: 0.0040\n",
            "Epoch 12/100\n",
            "1198/1198 [==============================] - 18s 15ms/step - loss: 0.0040\n",
            "Epoch 13/100\n",
            "1198/1198 [==============================] - 18s 15ms/step - loss: 0.0039\n",
            "Epoch 14/100\n",
            "1198/1198 [==============================] - 18s 15ms/step - loss: 0.0043\n",
            "Epoch 15/100\n",
            "1198/1198 [==============================] - 18s 15ms/step - loss: 0.0038\n",
            "Epoch 16/100\n",
            "1198/1198 [==============================] - 18s 15ms/step - loss: 0.0039\n",
            "Epoch 17/100\n",
            "1198/1198 [==============================] - 18s 15ms/step - loss: 0.0034\n",
            "Epoch 18/100\n",
            "1198/1198 [==============================] - 18s 15ms/step - loss: 0.0033\n",
            "Epoch 19/100\n",
            "1198/1198 [==============================] - 18s 15ms/step - loss: 0.0035\n",
            "Epoch 20/100\n",
            "1198/1198 [==============================] - 18s 15ms/step - loss: 0.0037\n",
            "Epoch 21/100\n",
            "1198/1198 [==============================] - 18s 15ms/step - loss: 0.0035\n",
            "Epoch 22/100\n",
            "1198/1198 [==============================] - 18s 15ms/step - loss: 0.0035\n",
            "Epoch 23/100\n",
            "1198/1198 [==============================] - 18s 15ms/step - loss: 0.0035\n",
            "Epoch 24/100\n",
            "1198/1198 [==============================] - 18s 15ms/step - loss: 0.0034\n",
            "Epoch 25/100\n",
            "1198/1198 [==============================] - 18s 15ms/step - loss: 0.0033\n",
            "Epoch 26/100\n",
            "1198/1198 [==============================] - 18s 15ms/step - loss: 0.0033\n",
            "Epoch 27/100\n",
            "1198/1198 [==============================] - 18s 15ms/step - loss: 0.0031\n",
            "Epoch 28/100\n",
            "1198/1198 [==============================] - 18s 15ms/step - loss: 0.0031\n",
            "Epoch 29/100\n",
            "1198/1198 [==============================] - 18s 15ms/step - loss: 0.0027\n",
            "Epoch 30/100\n",
            "1198/1198 [==============================] - 18s 15ms/step - loss: 0.0030\n",
            "Epoch 31/100\n",
            "1198/1198 [==============================] - 18s 15ms/step - loss: 0.0031\n",
            "Epoch 32/100\n",
            "1198/1198 [==============================] - 18s 15ms/step - loss: 0.0036\n",
            "Epoch 33/100\n",
            "1198/1198 [==============================] - 18s 15ms/step - loss: 0.0027\n",
            "Epoch 34/100\n",
            "1198/1198 [==============================] - 18s 15ms/step - loss: 0.0028\n",
            "Epoch 35/100\n",
            "1198/1198 [==============================] - 18s 15ms/step - loss: 0.0028\n",
            "Epoch 36/100\n",
            "1198/1198 [==============================] - 18s 15ms/step - loss: 0.0031\n",
            "Epoch 37/100\n",
            "1198/1198 [==============================] - 18s 15ms/step - loss: 0.0032\n",
            "Epoch 38/100\n",
            "1198/1198 [==============================] - 18s 15ms/step - loss: 0.0032\n",
            "Epoch 39/100\n",
            "1198/1198 [==============================] - 18s 15ms/step - loss: 0.0026\n",
            "Epoch 40/100\n",
            "1198/1198 [==============================] - 18s 15ms/step - loss: 0.0026\n",
            "Epoch 41/100\n",
            "1198/1198 [==============================] - 18s 15ms/step - loss: 0.0025\n",
            "Epoch 42/100\n",
            "1198/1198 [==============================] - 18s 15ms/step - loss: 0.0029\n",
            "Epoch 43/100\n",
            "1198/1198 [==============================] - 18s 15ms/step - loss: 0.0027\n",
            "Epoch 44/100\n",
            "1198/1198 [==============================] - 18s 15ms/step - loss: 0.0022\n",
            "Epoch 45/100\n",
            "1198/1198 [==============================] - 18s 15ms/step - loss: 0.0025\n",
            "Epoch 46/100\n",
            "1198/1198 [==============================] - 18s 15ms/step - loss: 0.0024\n",
            "Epoch 47/100\n",
            "1198/1198 [==============================] - 18s 15ms/step - loss: 0.0027\n",
            "Epoch 48/100\n",
            "1198/1198 [==============================] - 18s 15ms/step - loss: 0.0022\n",
            "Epoch 49/100\n",
            "1198/1198 [==============================] - 18s 15ms/step - loss: 0.0021\n",
            "Epoch 50/100\n",
            "1198/1198 [==============================] - 18s 15ms/step - loss: 0.0023\n",
            "Epoch 51/100\n",
            "1198/1198 [==============================] - 18s 15ms/step - loss: 0.0022\n",
            "Epoch 52/100\n",
            "1198/1198 [==============================] - 18s 15ms/step - loss: 0.0025\n",
            "Epoch 53/100\n",
            "1198/1198 [==============================] - 18s 15ms/step - loss: 0.0023\n",
            "Epoch 54/100\n",
            "1198/1198 [==============================] - 18s 15ms/step - loss: 0.0023\n",
            "Epoch 55/100\n",
            "1198/1198 [==============================] - 18s 15ms/step - loss: 0.0024\n",
            "Epoch 56/100\n",
            "1198/1198 [==============================] - 18s 15ms/step - loss: 0.0022\n",
            "Epoch 57/100\n",
            "1198/1198 [==============================] - 18s 15ms/step - loss: 0.0022\n",
            "Epoch 58/100\n",
            "1198/1198 [==============================] - 18s 15ms/step - loss: 0.0021\n",
            "Epoch 59/100\n",
            "1198/1198 [==============================] - 18s 15ms/step - loss: 0.0021\n",
            "Epoch 60/100\n",
            "1198/1198 [==============================] - 18s 15ms/step - loss: 0.0019\n",
            "Epoch 61/100\n",
            "1198/1198 [==============================] - 18s 15ms/step - loss: 0.0020\n",
            "Epoch 62/100\n",
            "1198/1198 [==============================] - 18s 15ms/step - loss: 0.0021\n",
            "Epoch 63/100\n",
            "1198/1198 [==============================] - 18s 15ms/step - loss: 0.0026\n",
            "Epoch 64/100\n",
            "1198/1198 [==============================] - 18s 15ms/step - loss: 0.0021\n",
            "Epoch 65/100\n",
            "1198/1198 [==============================] - 18s 15ms/step - loss: 0.0018\n",
            "Epoch 66/100\n",
            "1198/1198 [==============================] - 18s 15ms/step - loss: 0.0018\n",
            "Epoch 67/100\n",
            "1198/1198 [==============================] - 18s 15ms/step - loss: 0.0017\n",
            "Epoch 68/100\n",
            "1198/1198 [==============================] - 18s 15ms/step - loss: 0.0017\n",
            "Epoch 69/100\n",
            "1198/1198 [==============================] - 18s 15ms/step - loss: 0.0020\n",
            "Epoch 70/100\n",
            "1198/1198 [==============================] - 18s 15ms/step - loss: 0.0019\n",
            "Epoch 71/100\n",
            "1198/1198 [==============================] - 18s 15ms/step - loss: 0.0020\n",
            "Epoch 72/100\n",
            "1198/1198 [==============================] - 18s 15ms/step - loss: 0.0018\n",
            "Epoch 73/100\n",
            "1198/1198 [==============================] - 18s 15ms/step - loss: 0.0017\n",
            "Epoch 74/100\n",
            "1198/1198 [==============================] - 18s 15ms/step - loss: 0.0019\n",
            "Epoch 75/100\n",
            "1198/1198 [==============================] - 18s 15ms/step - loss: 0.0018\n",
            "Epoch 76/100\n",
            "1198/1198 [==============================] - 18s 15ms/step - loss: 0.0017\n",
            "Epoch 77/100\n",
            "1198/1198 [==============================] - 18s 15ms/step - loss: 0.0017\n",
            "Epoch 78/100\n",
            "1198/1198 [==============================] - 18s 15ms/step - loss: 0.0017\n",
            "Epoch 79/100\n",
            "1198/1198 [==============================] - 18s 15ms/step - loss: 0.0016\n",
            "Epoch 80/100\n",
            "1198/1198 [==============================] - 18s 15ms/step - loss: 0.0018\n",
            "Epoch 81/100\n",
            "1198/1198 [==============================] - 18s 15ms/step - loss: 0.0020\n",
            "Epoch 82/100\n",
            "1198/1198 [==============================] - 18s 15ms/step - loss: 0.0016\n",
            "Epoch 83/100\n",
            "1198/1198 [==============================] - 18s 15ms/step - loss: 0.0016\n",
            "Epoch 84/100\n",
            "1198/1198 [==============================] - 18s 15ms/step - loss: 0.0017\n",
            "Epoch 85/100\n",
            "1198/1198 [==============================] - 18s 15ms/step - loss: 0.0018\n",
            "Epoch 86/100\n",
            "1198/1198 [==============================] - 18s 15ms/step - loss: 0.0016\n",
            "Epoch 87/100\n",
            "1198/1198 [==============================] - 18s 15ms/step - loss: 0.0016\n",
            "Epoch 88/100\n",
            "1198/1198 [==============================] - 18s 15ms/step - loss: 0.0015\n",
            "Epoch 89/100\n",
            "1198/1198 [==============================] - 18s 15ms/step - loss: 0.0016\n",
            "Epoch 90/100\n",
            "1198/1198 [==============================] - 18s 15ms/step - loss: 0.0015\n",
            "Epoch 91/100\n",
            "1198/1198 [==============================] - 18s 15ms/step - loss: 0.0015\n",
            "Epoch 92/100\n",
            "1198/1198 [==============================] - 18s 15ms/step - loss: 0.0014\n",
            "Epoch 93/100\n",
            "1198/1198 [==============================] - 18s 15ms/step - loss: 0.0015\n",
            "Epoch 94/100\n",
            "1198/1198 [==============================] - 18s 15ms/step - loss: 0.0014\n",
            "Epoch 95/100\n",
            "1198/1198 [==============================] - 18s 15ms/step - loss: 0.0016\n",
            "Epoch 96/100\n",
            "1198/1198 [==============================] - 18s 15ms/step - loss: 0.0016\n",
            "Epoch 97/100\n",
            "1198/1198 [==============================] - 18s 15ms/step - loss: 0.0015\n",
            "Epoch 98/100\n",
            "1198/1198 [==============================] - 18s 15ms/step - loss: 0.0016\n",
            "Epoch 99/100\n",
            "1198/1198 [==============================] - 18s 15ms/step - loss: 0.0014\n",
            "Epoch 100/100\n",
            "1198/1198 [==============================] - 18s 15ms/step - loss: 0.0014\n"
          ],
          "name": "stdout"
        }
      ]
    },
    {
      "metadata": {
        "id": "bE0TrrJ90Him",
        "colab_type": "code",
        "colab": {
          "base_uri": "https://localhost:8080/",
          "height": 34
        },
        "outputId": "e316b9d0-fd04-4618-f5c6-6674f68b4cff"
      },
      "cell_type": "code",
      "source": [
        "ls"
      ],
      "execution_count": 9,
      "outputs": [
        {
          "output_type": "stream",
          "text": [
            "\u001b[0m\u001b[01;34m'My Drive'\u001b[0m/\n"
          ],
          "name": "stdout"
        }
      ]
    },
    {
      "metadata": {
        "id": "l1ABo9Jn0I_0",
        "colab_type": "code",
        "colab": {
          "base_uri": "https://localhost:8080/",
          "height": 34
        },
        "outputId": "9681f63e-1b12-4e1a-d697-6e5efca2edd1"
      },
      "cell_type": "code",
      "source": [
        "cd My\\ Drive\n"
      ],
      "execution_count": 10,
      "outputs": [
        {
          "output_type": "stream",
          "text": [
            "/content/drive/My Drive\n"
          ],
          "name": "stdout"
        }
      ]
    },
    {
      "metadata": {
        "id": "ycfcH7tk0L6Y",
        "colab_type": "code",
        "colab": {
          "base_uri": "https://localhost:8080/",
          "height": 238
        },
        "outputId": "1332cba5-225c-4beb-fd17-eee29d27bfc4"
      },
      "cell_type": "code",
      "source": [
        "ls\n"
      ],
      "execution_count": 11,
      "outputs": [
        {
          "output_type": "stream",
          "text": [
            "\u001b[0m\u001b[01;34m'Colab Notebooks'\u001b[0m/\n",
            " consentletter.gdoc\n",
            " \u001b[01;34mdataset\u001b[0m/\n",
            " Idea_submission_main.gslides\n",
            " Idea_submission_template20Dec.gslides\n",
            " Idea_submission_template20Dec.pptx\n",
            "'IMG_20190116_131406~2 (1).jpg'\n",
            " IMG_20190116_131406~2.jpg\n",
            " \u001b[01;34mRecurrent_Neural_Networks\u001b[0m/\n",
            "'Smart India Hackathon 2019 - Problem 2 - Patient Case Similarity.gdoc'\n",
            " stock_market_dataset.zip\n",
            " \u001b[01;34mstock_prediction\u001b[0m/\n",
            " Untitled0.ipynb\n"
          ],
          "name": "stdout"
        }
      ]
    },
    {
      "metadata": {
        "id": "UDZ8h_4C0NKQ",
        "colab_type": "code",
        "colab": {
          "base_uri": "https://localhost:8080/",
          "height": 34
        },
        "outputId": "3e839cee-35c8-4f18-c974-25e02bf03e09"
      },
      "cell_type": "code",
      "source": [
        "cd Recurrent_Neural_Networks/"
      ],
      "execution_count": 12,
      "outputs": [
        {
          "output_type": "stream",
          "text": [
            "/content/drive/My Drive/Recurrent_Neural_Networks\n"
          ],
          "name": "stdout"
        }
      ]
    },
    {
      "metadata": {
        "id": "9Al5VFrH0QrB",
        "colab_type": "code",
        "colab": {
          "base_uri": "https://localhost:8080/",
          "height": 51
        },
        "outputId": "cb72ab49-aa43-468a-83b0-ceb932803db4"
      },
      "cell_type": "code",
      "source": [
        "ls"
      ],
      "execution_count": 13,
      "outputs": [
        {
          "output_type": "stream",
          "text": [
            "google_stock_price.py        Google_Stock_Price_Train.csv\n",
            "Google_Stock_Price_Test.csv  rnn.py\n"
          ],
          "name": "stdout"
        }
      ]
    },
    {
      "metadata": {
        "id": "qVrlvO3K0S6o",
        "colab_type": "code",
        "colab": {
          "base_uri": "https://localhost:8080/",
          "height": 357
        },
        "outputId": "4d848bfb-815b-4527-e26f-e62b16c34bf0"
      },
      "cell_type": "code",
      "source": [
        "predicted_stock_price"
      ],
      "execution_count": 15,
      "outputs": [
        {
          "output_type": "execute_result",
          "data": {
            "text/plain": [
              "array([[785.75195],\n",
              "       [782.8586 ],\n",
              "       [783.4425 ],\n",
              "       [785.0819 ],\n",
              "       [788.6732 ],\n",
              "       [794.7616 ],\n",
              "       [799.89197],\n",
              "       [801.405  ],\n",
              "       [801.2212 ],\n",
              "       [800.8205 ],\n",
              "       [800.76355],\n",
              "       [800.86224],\n",
              "       [801.04266],\n",
              "       [801.87506],\n",
              "       [802.9466 ],\n",
              "       [807.9311 ],\n",
              "       [815.0319 ],\n",
              "       [822.3107 ],\n",
              "       [825.5718 ],\n",
              "       [820.0124 ]], dtype=float32)"
            ]
          },
          "metadata": {
            "tags": []
          },
          "execution_count": 15
        }
      ]
    },
    {
      "metadata": {
        "id": "IeOgOWks9rgP",
        "colab_type": "code",
        "colab": {
          "base_uri": "https://localhost:8080/",
          "height": 376
        },
        "outputId": "ca762102-59aa-48d1-f0b1-bfacb4b78513"
      },
      "cell_type": "code",
      "source": [
        "plt.plot(real_stock_price,color=\"red\",label=\"Real google stock price\")\n",
        "plt.plot(predicted_stock_price,color=\"blue\",label=\"Predicted google stock price\")\n",
        "plt.title(\"Google stock price prediction\")\n",
        "plt.xlabel(\"time\")\n",
        "plt.ylabel(\"google stock price\")\n",
        "plt.legend()\n",
        "plt.show()"
      ],
      "execution_count": 16,
      "outputs": [
        {
          "output_type": "display_data",
          "data": {
            "image/png": "[encoded data removed]",
            "text/plain": [
              "<Figure size 576x396 with 1 Axes>"
            ]
          },
          "metadata": {
            "tags": []
          }
        }
      ]
    }
  ]
}